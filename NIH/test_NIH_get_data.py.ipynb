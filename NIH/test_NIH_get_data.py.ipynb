{
 "cells": [
  {
   "cell_type": "code",
   "id": "initial_id",
   "metadata": {
    "collapsed": true,
    "ExecuteTime": {
     "end_time": "2024-11-02T20:25:11.034247Z",
     "start_time": "2024-11-02T20:25:07.972453Z"
    }
   },
   "source": [
    "import pandas as pd\n",
    "import numpy as np\n",
    "\n",
    "dingus = pd.read_csv('CXR8-selected/LongTailCXR/nih-cxr-lt_image_ids.csv')\n",
    "\n",
    "\n",
    "def preprocess_NIH(split):\n",
    "    split['Patient Age'] = np.where(split['Patient Age'].between(0,19), 19, split['Patient Age'])\n",
    "    split['Patient Age'] = np.where(split['Patient Age'].between(20,39), 39, split['Patient Age'])\n",
    "    split['Patient Age'] = np.where(split['Patient Age'].between(40,59), 59, split['Patient Age'])\n",
    "    split['Patient Age'] = np.where(split['Patient Age'].between(60,79), 79, split['Patient Age'])\n",
    "    split['Patient Age'] = np.where(split['Patient Age']>=80, 81, split['Patient Age'])\n",
    "    \n",
    "    copy_sunbjectid = split['Patient ID'] \n",
    "    split.drop(columns = ['Patient ID'])\n",
    "    \n",
    "    split = split.replace([[None], -1, \"[False]\", \"[True]\", \"[ True]\", 19, 39, 59, 79, 81], \n",
    "                            [0, 0, 0, 1, 1, \"0-20\", \"20-40\", \"40-60\", \"60-80\", \"80-\"])\n",
    "   \n",
    "    split['subject_id'] = copy_sunbjectid\n",
    "    split['Sex'] = split['Patient Gender'] \n",
    "    split['Age'] = split['Patient Age']\n",
    "    split = split.drop(columns=[\"Patient Gender\", 'Patient Age'])\n",
    "\n",
    "    return split\n",
    "\n",
    "df = pd.read_csv('CXR8-selected/Data_Entry_2017_v2020.csv')\n",
    "#display(df.describe())\n",
    "\n",
    "df1 = pd.read_csv('CXR8-selected/PruneCXR/miccai2023_nih-cxr-lt_labels_train.csv')\n",
    "#display(df1.head())\n",
    "\n",
    "res = pd.merge(df, df1, left_on='Patient ID', right_on='subj_id', how='left')\n",
    "\n",
    "print(\"Number of images:\",len(res) )\n",
    "Whole = res.groupby(\"Patient ID\")\n",
    "print(\"Number of unique patients:\",len(Whole.count()) )\n",
    "\n",
    "preprocess_NIH(res)\n",
    "\n",
    "print(\"Number of images:\",len(res) )\n",
    "Whole =res.groupby(\"Patient ID\")\n",
    "print(\"Number of unique patients:\",len(Whole.count()) )\n"
   ],
   "outputs": [
    {
     "name": "stdout",
     "output_type": "stream",
     "text": [
      "Number of images: 933568\n",
      "Number of unique patients: 30805\n",
      "Number of images: 933568\n",
      "Number of unique patients: 30805\n"
     ]
    }
   ],
   "execution_count": 12
  }
 ],
 "metadata": {
  "kernelspec": {
   "display_name": "Python (cxr_underdiag)",
   "language": "python",
   "name": "cxr_underdiag"
  },
  "language_info": {
   "codemirror_mode": {
    "name": "ipython",
    "version": 2
   },
   "file_extension": ".py",
   "mimetype": "text/x-python",
   "name": "python",
   "nbconvert_exporter": "python",
   "pygments_lexer": "ipython2",
   "version": "2.7.6"
  }
 },
 "nbformat": 4,
 "nbformat_minor": 5
}
