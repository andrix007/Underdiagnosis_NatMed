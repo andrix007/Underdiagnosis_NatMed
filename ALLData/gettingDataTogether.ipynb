{
 "cells": [
  {
   "cell_type": "code",
   "id": "initial_id",
   "metadata": {
    "collapsed": true,
    "ExecuteTime": {
     "end_time": "2024-11-12T16:21:41.916792Z",
     "start_time": "2024-11-12T16:21:40.909374Z"
    }
   },
   "source": [
    "import os\n",
    "import pandas as pd\n",
    "import numpy as np"
   ],
   "outputs": [],
   "execution_count": 3
  },
  {
   "metadata": {
    "ExecuteTime": {
     "end_time": "2024-11-08T09:57:48.569103Z",
     "start_time": "2024-11-08T09:57:48.564214Z"
    }
   },
   "cell_type": "code",
   "source": [
    "path_image_MIMIC = 'C:\\\\Users\\\\Andrei\\\\PycharmProjects\\\\Underdiagnosis_NatMed\\\\MIMIC\\\\data\\\\mimic-cxr\\\\2.0.0\\\\files'\n",
    "path_image_CXP = 'C:\\\\Users\\\\Andrei\\\\PycharmProjects\\\\Underdiagnosis_NatMed\\\\CXP\\\\images'\n",
    "path_image_NIH = 'C:\\\\Users\\\\Andrei\\\\PycharmProjects\\\\Underdiagnosis_NatMed\\\\NIH\\\\images\\\\images'"
   ],
   "id": "358b17c95eef9f94",
   "outputs": [],
   "execution_count": 14
  },
  {
   "metadata": {
    "ExecuteTime": {
     "end_time": "2024-11-08T09:57:51.653458Z",
     "start_time": "2024-11-08T09:57:50.423556Z"
    }
   },
   "cell_type": "code",
   "source": [
    "train_df_NIH = pd.read_csv('../NIH/preprocessed_train_df.csv')\n",
    "train_df_CXP = pd.read_csv('../CXP/Dataframes/preprocessed_train_df.csv')\n",
    "train_df_MIMIC = pd.read_csv('../MIMIC/data/preprocessed_mimic_train.csv')"
   ],
   "id": "61024fd34c3ba892",
   "outputs": [],
   "execution_count": 15
  },
  {
   "metadata": {
    "ExecuteTime": {
     "end_time": "2024-11-08T09:57:52.915102Z",
     "start_time": "2024-11-08T09:57:52.796760Z"
    }
   },
   "cell_type": "code",
   "source": [
    "test_df_NIH = pd.read_csv('../NIH/preprocessed_test_df.csv')\n",
    "test_df_CXP = pd.read_csv('../CXP/Dataframes/preprocessed_test_df.csv')\n",
    "test_df_MIMIC = pd.read_csv('../MIMIC/data/preprocessed_mimic_test.csv')"
   ],
   "id": "8194de321c13f3ac",
   "outputs": [],
   "execution_count": 16
  },
  {
   "metadata": {
    "ExecuteTime": {
     "end_time": "2024-11-08T09:57:54.797431Z",
     "start_time": "2024-11-08T09:57:54.674556Z"
    }
   },
   "cell_type": "code",
   "source": [
    "val_df_NIH = pd.read_csv('../NIH/preprocessed_val_df.csv')\n",
    "val_df_CXP = pd.read_csv('../CXP/Dataframes/preprocessed_val_df.csv')\n",
    "val_df_MIMIC = pd.read_csv('../MIMIC/data/preprocessed_mimic_valid.csv')"
   ],
   "id": "16c45099265ed123",
   "outputs": [],
   "execution_count": 17
  },
  {
   "metadata": {
    "ExecuteTime": {
     "end_time": "2024-11-08T09:58:57.872370Z",
     "start_time": "2024-11-08T09:58:57.740682Z"
    }
   },
   "cell_type": "code",
   "source": [
    "test_df_MIMIC['Jointpath'] = path_image_MIMIC + test_df_MIMIC['path'].astype(str)\n",
    "test_df_CXP['Jointpath']   = path_image_CXP   + test_df_CXP['path'].astype(str)\n",
    "test_df_NIH['Jointpath']   = path_image_NIH   + test_df_NIH['path'].astype(str)\n",
    "\n",
    "train_df_MIMIC['Jointpath'] = path_image_MIMIC + train_df_MIMIC['path'].astype(str)\n",
    "train_df_CXP['Jointpath']   = path_image_CXP   + train_df_CXP['path'].astype(str)\n",
    "train_df_NIH['Jointpath']   = path_image_NIH   + train_df_NIH['path'].astype(str)\n",
    "\n",
    "val_df_MIMIC['Jointpath'] = path_image_MIMIC + val_df_MIMIC['path'].astype(str)\n",
    "val_df_CXP['Jointpath']   = path_image_CXP   + val_df_CXP['path'].astype(str)\n",
    "val_df_NIH['Jointpath']   = path_image_NIH   + val_df_NIH['path'].astype(str)"
   ],
   "id": "118cb7cb03245d3e",
   "outputs": [],
   "execution_count": 18
  },
  {
   "metadata": {
    "ExecuteTime": {
     "end_time": "2024-11-08T09:59:42.389498Z",
     "start_time": "2024-11-08T09:59:42.379835Z"
    }
   },
   "cell_type": "code",
   "source": [
    "test_df_NIH[\"subject_id\"] =  test_df_NIH['subject_id'].astype(int)\n",
    "test_df_CXP[\"subject_id\"] = test_df_CXP['subject_id'].astype(int)\n",
    "test_df_MIMIC[\"subject_id\"] =  test_df_MIMIC['subject_id'].astype(int)\n",
    "\n",
    "train_df_MIMIC[\"subject_id\"] =  train_df_MIMIC['subject_id'].astype(int)\n",
    "train_df_CXP[\"subject_id\"] = train_df_CXP['subject_id'].astype(int)\n",
    "train_df_NIH[\"subject_id\"] =  train_df_NIH['subject_id'].astype(int)\n",
    "\n",
    "val_df_MIMIC[\"subject_id\"] =  val_df_MIMIC['subject_id'].astype(int)\n",
    "val_df_CXP[\"subject_id\"] = val_df_CXP['subject_id'].astype(int)\n",
    "val_df_NIH[\"subject_id\"] =  val_df_NIH['subject_id'].astype(int)"
   ],
   "id": "24f03d71f394de9e",
   "outputs": [],
   "execution_count": 19
  },
  {
   "metadata": {
    "ExecuteTime": {
     "end_time": "2024-11-08T10:00:08.784684Z",
     "start_time": "2024-11-08T10:00:08.646681Z"
    }
   },
   "cell_type": "code",
   "source": [
    "cols = ['subject_id','Jointpath','Sex','Age','No Finding', 'Atelectasis', 'Cardiomegaly',  'Effusion',  'Pneumonia', 'Pneumothorax', 'Consolidation','Edema' ]\n",
    "test_df_NIH.drop(columns=['path'], inplace=True)\n",
    "test_df_NIH = test_df_NIH[cols]\n",
    "test_df_CXP.drop(columns=['path'], inplace=True)\n",
    "test_df_CXP = test_df_CXP[cols]\n",
    "test_df_MIMIC.drop(columns=['path'], inplace=True)\n",
    "test_df_MIMIC = test_df_MIMIC[cols]\n",
    "val_df_NIH.drop(columns=['path'], inplace=True)\n",
    "val_df_NIH = val_df_NIH[cols]\n",
    "val_df_CXP.drop(columns=['path'], inplace=True)\n",
    "val_df_CXP = val_df_CXP[cols]\n",
    "val_df_MIMIC.drop(columns=['path'], inplace=True)\n",
    "val_df_MIMIC = val_df_MIMIC[cols]\n",
    "train_df_NIH.drop(columns=['path'], inplace=True)\n",
    "train_df_NIH = train_df_NIH[cols]\n",
    "train_df_CXP.drop(columns=['path'], inplace=True)\n",
    "train_df_CXP = train_df_CXP[cols]\n",
    "train_df_MIMIC.drop(columns=['path'], inplace=True)\n",
    "train_df_MIMIC = train_df_MIMIC[cols]"
   ],
   "id": "94db1cb2e6565fe3",
   "outputs": [],
   "execution_count": 20
  },
  {
   "metadata": {
    "ExecuteTime": {
     "end_time": "2024-11-08T10:00:12.038642Z",
     "start_time": "2024-11-08T10:00:12.027148Z"
    }
   },
   "cell_type": "code",
   "source": "test_df_NIH.head(10)",
   "id": "3009d3bf7d0d444d",
   "outputs": [
    {
     "data": {
      "text/plain": [
       "   subject_id                                          Jointpath Sex    Age  \\\n",
       "0          72  C:\\Users\\Andrei\\PycharmProjects\\Underdiagnosis...   F  60-80   \n",
       "1         284  C:\\Users\\Andrei\\PycharmProjects\\Underdiagnosis...   F    80+   \n",
       "2         284  C:\\Users\\Andrei\\PycharmProjects\\Underdiagnosis...   F    80+   \n",
       "3         284  C:\\Users\\Andrei\\PycharmProjects\\Underdiagnosis...   F    80+   \n",
       "4         284  C:\\Users\\Andrei\\PycharmProjects\\Underdiagnosis...   F    80+   \n",
       "5         284  C:\\Users\\Andrei\\PycharmProjects\\Underdiagnosis...   F    80+   \n",
       "6         284  C:\\Users\\Andrei\\PycharmProjects\\Underdiagnosis...   F    80+   \n",
       "7         324  C:\\Users\\Andrei\\PycharmProjects\\Underdiagnosis...   M  20-40   \n",
       "8         324  C:\\Users\\Andrei\\PycharmProjects\\Underdiagnosis...   M  20-40   \n",
       "9         324  C:\\Users\\Andrei\\PycharmProjects\\Underdiagnosis...   M  20-40   \n",
       "\n",
       "   No Finding  Atelectasis  Cardiomegaly  Effusion  Pneumonia  Pneumothorax  \\\n",
       "0           0            1             0         0          0             0   \n",
       "1           0            0             0         0          0             0   \n",
       "2           0            0             0         0          0             0   \n",
       "3           0            0             0         0          0             0   \n",
       "4           0            0             1         0          0             0   \n",
       "5           0            0             1         1          0             0   \n",
       "6           0            0             0         0          0             0   \n",
       "7           0            0             0         0          0             0   \n",
       "8           0            0             0         0          0             0   \n",
       "9           1            0             0         0          0             0   \n",
       "\n",
       "   Consolidation  Edema  \n",
       "0              0      0  \n",
       "1              0      0  \n",
       "2              0      0  \n",
       "3              0      0  \n",
       "4              0      0  \n",
       "5              0      0  \n",
       "6              0      0  \n",
       "7              0      0  \n",
       "8              0      0  \n",
       "9              0      0  "
      ],
      "text/html": [
       "<div>\n",
       "<style scoped>\n",
       "    .dataframe tbody tr th:only-of-type {\n",
       "        vertical-align: middle;\n",
       "    }\n",
       "\n",
       "    .dataframe tbody tr th {\n",
       "        vertical-align: top;\n",
       "    }\n",
       "\n",
       "    .dataframe thead th {\n",
       "        text-align: right;\n",
       "    }\n",
       "</style>\n",
       "<table border=\"1\" class=\"dataframe\">\n",
       "  <thead>\n",
       "    <tr style=\"text-align: right;\">\n",
       "      <th></th>\n",
       "      <th>subject_id</th>\n",
       "      <th>Jointpath</th>\n",
       "      <th>Sex</th>\n",
       "      <th>Age</th>\n",
       "      <th>No Finding</th>\n",
       "      <th>Atelectasis</th>\n",
       "      <th>Cardiomegaly</th>\n",
       "      <th>Effusion</th>\n",
       "      <th>Pneumonia</th>\n",
       "      <th>Pneumothorax</th>\n",
       "      <th>Consolidation</th>\n",
       "      <th>Edema</th>\n",
       "    </tr>\n",
       "  </thead>\n",
       "  <tbody>\n",
       "    <tr>\n",
       "      <th>0</th>\n",
       "      <td>72</td>\n",
       "      <td>C:\\Users\\Andrei\\PycharmProjects\\Underdiagnosis...</td>\n",
       "      <td>F</td>\n",
       "      <td>60-80</td>\n",
       "      <td>0</td>\n",
       "      <td>1</td>\n",
       "      <td>0</td>\n",
       "      <td>0</td>\n",
       "      <td>0</td>\n",
       "      <td>0</td>\n",
       "      <td>0</td>\n",
       "      <td>0</td>\n",
       "    </tr>\n",
       "    <tr>\n",
       "      <th>1</th>\n",
       "      <td>284</td>\n",
       "      <td>C:\\Users\\Andrei\\PycharmProjects\\Underdiagnosis...</td>\n",
       "      <td>F</td>\n",
       "      <td>80+</td>\n",
       "      <td>0</td>\n",
       "      <td>0</td>\n",
       "      <td>0</td>\n",
       "      <td>0</td>\n",
       "      <td>0</td>\n",
       "      <td>0</td>\n",
       "      <td>0</td>\n",
       "      <td>0</td>\n",
       "    </tr>\n",
       "    <tr>\n",
       "      <th>2</th>\n",
       "      <td>284</td>\n",
       "      <td>C:\\Users\\Andrei\\PycharmProjects\\Underdiagnosis...</td>\n",
       "      <td>F</td>\n",
       "      <td>80+</td>\n",
       "      <td>0</td>\n",
       "      <td>0</td>\n",
       "      <td>0</td>\n",
       "      <td>0</td>\n",
       "      <td>0</td>\n",
       "      <td>0</td>\n",
       "      <td>0</td>\n",
       "      <td>0</td>\n",
       "    </tr>\n",
       "    <tr>\n",
       "      <th>3</th>\n",
       "      <td>284</td>\n",
       "      <td>C:\\Users\\Andrei\\PycharmProjects\\Underdiagnosis...</td>\n",
       "      <td>F</td>\n",
       "      <td>80+</td>\n",
       "      <td>0</td>\n",
       "      <td>0</td>\n",
       "      <td>0</td>\n",
       "      <td>0</td>\n",
       "      <td>0</td>\n",
       "      <td>0</td>\n",
       "      <td>0</td>\n",
       "      <td>0</td>\n",
       "    </tr>\n",
       "    <tr>\n",
       "      <th>4</th>\n",
       "      <td>284</td>\n",
       "      <td>C:\\Users\\Andrei\\PycharmProjects\\Underdiagnosis...</td>\n",
       "      <td>F</td>\n",
       "      <td>80+</td>\n",
       "      <td>0</td>\n",
       "      <td>0</td>\n",
       "      <td>1</td>\n",
       "      <td>0</td>\n",
       "      <td>0</td>\n",
       "      <td>0</td>\n",
       "      <td>0</td>\n",
       "      <td>0</td>\n",
       "    </tr>\n",
       "    <tr>\n",
       "      <th>5</th>\n",
       "      <td>284</td>\n",
       "      <td>C:\\Users\\Andrei\\PycharmProjects\\Underdiagnosis...</td>\n",
       "      <td>F</td>\n",
       "      <td>80+</td>\n",
       "      <td>0</td>\n",
       "      <td>0</td>\n",
       "      <td>1</td>\n",
       "      <td>1</td>\n",
       "      <td>0</td>\n",
       "      <td>0</td>\n",
       "      <td>0</td>\n",
       "      <td>0</td>\n",
       "    </tr>\n",
       "    <tr>\n",
       "      <th>6</th>\n",
       "      <td>284</td>\n",
       "      <td>C:\\Users\\Andrei\\PycharmProjects\\Underdiagnosis...</td>\n",
       "      <td>F</td>\n",
       "      <td>80+</td>\n",
       "      <td>0</td>\n",
       "      <td>0</td>\n",
       "      <td>0</td>\n",
       "      <td>0</td>\n",
       "      <td>0</td>\n",
       "      <td>0</td>\n",
       "      <td>0</td>\n",
       "      <td>0</td>\n",
       "    </tr>\n",
       "    <tr>\n",
       "      <th>7</th>\n",
       "      <td>324</td>\n",
       "      <td>C:\\Users\\Andrei\\PycharmProjects\\Underdiagnosis...</td>\n",
       "      <td>M</td>\n",
       "      <td>20-40</td>\n",
       "      <td>0</td>\n",
       "      <td>0</td>\n",
       "      <td>0</td>\n",
       "      <td>0</td>\n",
       "      <td>0</td>\n",
       "      <td>0</td>\n",
       "      <td>0</td>\n",
       "      <td>0</td>\n",
       "    </tr>\n",
       "    <tr>\n",
       "      <th>8</th>\n",
       "      <td>324</td>\n",
       "      <td>C:\\Users\\Andrei\\PycharmProjects\\Underdiagnosis...</td>\n",
       "      <td>M</td>\n",
       "      <td>20-40</td>\n",
       "      <td>0</td>\n",
       "      <td>0</td>\n",
       "      <td>0</td>\n",
       "      <td>0</td>\n",
       "      <td>0</td>\n",
       "      <td>0</td>\n",
       "      <td>0</td>\n",
       "      <td>0</td>\n",
       "    </tr>\n",
       "    <tr>\n",
       "      <th>9</th>\n",
       "      <td>324</td>\n",
       "      <td>C:\\Users\\Andrei\\PycharmProjects\\Underdiagnosis...</td>\n",
       "      <td>M</td>\n",
       "      <td>20-40</td>\n",
       "      <td>1</td>\n",
       "      <td>0</td>\n",
       "      <td>0</td>\n",
       "      <td>0</td>\n",
       "      <td>0</td>\n",
       "      <td>0</td>\n",
       "      <td>0</td>\n",
       "      <td>0</td>\n",
       "    </tr>\n",
       "  </tbody>\n",
       "</table>\n",
       "</div>"
      ]
     },
     "execution_count": 21,
     "metadata": {},
     "output_type": "execute_result"
    }
   ],
   "execution_count": 21
  },
  {
   "metadata": {
    "ExecuteTime": {
     "end_time": "2024-11-08T10:03:15.133174Z",
     "start_time": "2024-11-08T10:03:15.074254Z"
    }
   },
   "cell_type": "code",
   "source": [
    "test_df = pd.concat([test_df_CXP, test_df_NIH, test_df_MIMIC], ignore_index=True)\n",
    "train_df = pd.concat([train_df_CXP, train_df_NIH, train_df_MIMIC], ignore_index=True)\n",
    "val_df = pd.concat([val_df_CXP, val_df_NIH, val_df_MIMIC], ignore_index=True)"
   ],
   "id": "d029c454c5a8366f",
   "outputs": [],
   "execution_count": 23
  },
  {
   "metadata": {
    "ExecuteTime": {
     "end_time": "2024-11-08T10:06:21.428118Z",
     "start_time": "2024-11-08T10:06:17.125996Z"
    }
   },
   "cell_type": "code",
   "source": [
    "test_df.to_csv('preprocessed_test_df.csv', index=False)\n",
    "train_df.to_csv('preprocessed_train_df.csv', index=False)\n",
    "val_df.to_csv('preprocessed_val_df.csv', index=False)"
   ],
   "id": "f5d66eec9e27b0d3",
   "outputs": [],
   "execution_count": 26
  },
  {
   "metadata": {
    "ExecuteTime": {
     "end_time": "2024-11-08T10:05:55.089459Z",
     "start_time": "2024-11-08T10:05:50.664348Z"
    }
   },
   "cell_type": "code",
   "source": [
    "WholeData = pd.concat([train_df, test_df, val_df], ignore_index=True)\n",
    "WholeData.to_csv('preprocessed_full_data.csv', index=False)"
   ],
   "id": "19db30f66a6074ed",
   "outputs": [],
   "execution_count": 25
  },
  {
   "metadata": {
    "ExecuteTime": {
     "end_time": "2024-11-12T16:21:47.120797Z",
     "start_time": "2024-11-12T16:21:45.392119Z"
    }
   },
   "cell_type": "code",
   "source": [
    "WholeData = pd.read_csv('./data/preprocessed_full_data.csv')\n",
    "len(WholeData)"
   ],
   "id": "f93b685236721354",
   "outputs": [
    {
     "data": {
      "text/plain": [
       "665580"
      ]
     },
     "execution_count": 4,
     "metadata": {},
     "output_type": "execute_result"
    }
   ],
   "execution_count": 4
  }
 ],
 "metadata": {
  "kernelspec": {
   "display_name": "Python (cxr_underdiag)",
   "language": "python",
   "name": "cxr_underdiag"
  },
  "language_info": {
   "codemirror_mode": {
    "name": "ipython",
    "version": 2
   },
   "file_extension": ".py",
   "mimetype": "text/x-python",
   "name": "python",
   "nbconvert_exporter": "python",
   "pygments_lexer": "ipython2",
   "version": "2.7.6"
  }
 },
 "nbformat": 4,
 "nbformat_minor": 5
}
