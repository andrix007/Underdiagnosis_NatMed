{
 "cells": [
  {
   "cell_type": "code",
   "execution_count": 1,
   "metadata": {},
   "outputs": [],
   "source": [
    "import pandas as pd"
   ]
  },
  {
   "cell_type": "code",
   "execution_count": 8,
   "metadata": {},
   "outputs": [],
   "source": [
    "def extract_path(path):\n",
    "    return path.split('\\\\')[-1]"
   ]
  },
  {
   "cell_type": "code",
   "execution_count": 9,
   "metadata": {},
   "outputs": [
    {
     "data": {
      "text/plain": [
       "0    imagesCheXpert-v1.0/train/patient00003/study1/...\n",
       "1    imagesCheXpert-v1.0/train/patient00007/study1/...\n",
       "2    imagesCheXpert-v1.0/train/patient00007/study2/...\n",
       "3    imagesCheXpert-v1.0/train/patient00013/study1/...\n",
       "4    imagesCheXpert-v1.0/train/patient00013/study1/...\n",
       "Name: Jointpath, dtype: object"
      ]
     },
     "execution_count": 9,
     "metadata": {},
     "output_type": "execute_result"
    }
   ],
   "source": [
    "test_df = pd.read_csv('data/preprocessed_test_df.csv')\n",
    "test_paths = test_df['Jointpath']\n",
    "test_paths = test_paths.apply(extract_path)\n",
    "test_paths.head()"
   ]
  }
 ],
 "metadata": {
  "kernelspec": {
   "display_name": "cxr_underdiag",
   "language": "python",
   "name": "python3"
  },
  "language_info": {
   "codemirror_mode": {
    "name": "ipython",
    "version": 3
   },
   "file_extension": ".py",
   "mimetype": "text/x-python",
   "name": "python",
   "nbconvert_exporter": "python",
   "pygments_lexer": "ipython3",
   "version": "3.12.2"
  }
 },
 "nbformat": 4,
 "nbformat_minor": 2
}
