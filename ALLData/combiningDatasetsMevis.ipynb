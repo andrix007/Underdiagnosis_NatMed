{
 "cells": [
  {
   "cell_type": "code",
   "execution_count": 1,
   "id": "initial_id",
   "metadata": {
    "ExecuteTime": {
     "end_time": "2024-11-12T16:21:41.916792Z",
     "start_time": "2024-11-12T16:21:40.909374Z"
    },
    "collapsed": true
   },
   "outputs": [],
   "source": [
    "import os\n",
    "import pandas as pd\n",
    "import numpy as np"
   ]
  },
  {
   "cell_type": "code",
   "execution_count": 2,
   "id": "61024fd34c3ba892",
   "metadata": {
    "ExecuteTime": {
     "end_time": "2024-11-08T09:57:51.653458Z",
     "start_time": "2024-11-08T09:57:50.423556Z"
    }
   },
   "outputs": [],
   "source": [
    "train_df_NIH = pd.read_csv('./data_mevis/NIH/preprocessed_train_NIH_mevis.csv')\n",
    "train_df_CXP = pd.read_csv('./data_mevis/CXP/preprocessed_train_CXP_mevis.csv')\n",
    "train_df_MIMIC = pd.read_csv('./data_mevis/MIMIC/preprocessed_train_MIMIC_mevis.csv')"
   ]
  },
  {
   "cell_type": "code",
   "execution_count": 3,
   "id": "8194de321c13f3ac",
   "metadata": {
    "ExecuteTime": {
     "end_time": "2024-11-08T09:57:52.915102Z",
     "start_time": "2024-11-08T09:57:52.796760Z"
    }
   },
   "outputs": [],
   "source": [
    "test_df_NIH = pd.read_csv('./data_mevis/NIH/preprocessed_test_NIH_mevis.csv')\n",
    "test_df_CXP = pd.read_csv('./data_mevis/CXP/preprocessed_test_CXP_mevis.csv')\n",
    "test_df_MIMIC = pd.read_csv('./data_mevis/MIMIC/preprocessed_test_MIMIC_mevis.csv')"
   ]
  },
  {
   "cell_type": "code",
   "execution_count": 4,
   "id": "16c45099265ed123",
   "metadata": {
    "ExecuteTime": {
     "end_time": "2024-11-08T09:57:54.797431Z",
     "start_time": "2024-11-08T09:57:54.674556Z"
    }
   },
   "outputs": [],
   "source": [
    "val_df_NIH = pd.read_csv('./data_mevis/NIH/preprocessed_val_NIH_mevis.csv')\n",
    "val_df_CXP = pd.read_csv('./data_mevis/CXP/preprocessed_val_CXP_mevis.csv')\n",
    "val_df_MIMIC = pd.read_csv('./data_mevis/MIMIC/preprocessed_val_MIMIC_mevis.csv')"
   ]
  },
  {
   "cell_type": "code",
   "execution_count": 5,
   "id": "24f03d71f394de9e",
   "metadata": {
    "ExecuteTime": {
     "end_time": "2024-11-08T09:59:42.389498Z",
     "start_time": "2024-11-08T09:59:42.379835Z"
    }
   },
   "outputs": [],
   "source": [
    "test_df_NIH[\"subject_id\"] =  test_df_NIH['subject_id'].astype(int)\n",
    "test_df_CXP[\"subject_id\"] = test_df_CXP['subject_id'].astype(int)\n",
    "test_df_MIMIC[\"subject_id\"] =  test_df_MIMIC['subject_id'].astype(int)\n",
    "\n",
    "train_df_MIMIC[\"subject_id\"] =  train_df_MIMIC['subject_id'].astype(int)\n",
    "train_df_CXP[\"subject_id\"] = train_df_CXP['subject_id'].astype(int)\n",
    "train_df_NIH[\"subject_id\"] =  train_df_NIH['subject_id'].astype(int)\n",
    "\n",
    "val_df_MIMIC[\"subject_id\"] =  val_df_MIMIC['subject_id'].astype(int)\n",
    "val_df_CXP[\"subject_id\"] = val_df_CXP['subject_id'].astype(int)\n",
    "val_df_NIH[\"subject_id\"] =  val_df_NIH['subject_id'].astype(int)"
   ]
  },
  {
   "cell_type": "code",
   "execution_count": 6,
   "id": "3009d3bf7d0d444d",
   "metadata": {
    "ExecuteTime": {
     "end_time": "2024-11-08T10:00:12.038642Z",
     "start_time": "2024-11-08T10:00:12.027148Z"
    }
   },
   "outputs": [
    {
     "data": {
      "text/html": [
       "<div>\n",
       "<style scoped>\n",
       "    .dataframe tbody tr th:only-of-type {\n",
       "        vertical-align: middle;\n",
       "    }\n",
       "\n",
       "    .dataframe tbody tr th {\n",
       "        vertical-align: top;\n",
       "    }\n",
       "\n",
       "    .dataframe thead th {\n",
       "        text-align: right;\n",
       "    }\n",
       "</style>\n",
       "<table border=\"1\" class=\"dataframe\">\n",
       "  <thead>\n",
       "    <tr style=\"text-align: right;\">\n",
       "      <th></th>\n",
       "      <th>subject_id</th>\n",
       "      <th>Jointpath</th>\n",
       "      <th>Sex</th>\n",
       "      <th>Age</th>\n",
       "      <th>No Finding</th>\n",
       "      <th>Atelectasis</th>\n",
       "      <th>Cardiomegaly</th>\n",
       "      <th>Effusion</th>\n",
       "      <th>Pneumonia</th>\n",
       "      <th>Pneumothorax</th>\n",
       "      <th>Consolidation</th>\n",
       "      <th>Edema</th>\n",
       "    </tr>\n",
       "  </thead>\n",
       "  <tbody>\n",
       "    <tr>\n",
       "      <th>0</th>\n",
       "      <td>72</td>\n",
       "      <td>/bigdata/andrei_thesis/NIH_data/images/images/...</td>\n",
       "      <td>F</td>\n",
       "      <td>60-80</td>\n",
       "      <td>0</td>\n",
       "      <td>1</td>\n",
       "      <td>0</td>\n",
       "      <td>0</td>\n",
       "      <td>0</td>\n",
       "      <td>0</td>\n",
       "      <td>0</td>\n",
       "      <td>0</td>\n",
       "    </tr>\n",
       "    <tr>\n",
       "      <th>1</th>\n",
       "      <td>284</td>\n",
       "      <td>/bigdata/andrei_thesis/NIH_data/images/images/...</td>\n",
       "      <td>F</td>\n",
       "      <td>80+</td>\n",
       "      <td>0</td>\n",
       "      <td>0</td>\n",
       "      <td>0</td>\n",
       "      <td>0</td>\n",
       "      <td>0</td>\n",
       "      <td>0</td>\n",
       "      <td>0</td>\n",
       "      <td>0</td>\n",
       "    </tr>\n",
       "    <tr>\n",
       "      <th>2</th>\n",
       "      <td>284</td>\n",
       "      <td>/bigdata/andrei_thesis/NIH_data/images/images/...</td>\n",
       "      <td>F</td>\n",
       "      <td>80+</td>\n",
       "      <td>0</td>\n",
       "      <td>0</td>\n",
       "      <td>0</td>\n",
       "      <td>0</td>\n",
       "      <td>0</td>\n",
       "      <td>0</td>\n",
       "      <td>0</td>\n",
       "      <td>0</td>\n",
       "    </tr>\n",
       "    <tr>\n",
       "      <th>3</th>\n",
       "      <td>284</td>\n",
       "      <td>/bigdata/andrei_thesis/NIH_data/images/images/...</td>\n",
       "      <td>F</td>\n",
       "      <td>80+</td>\n",
       "      <td>0</td>\n",
       "      <td>0</td>\n",
       "      <td>0</td>\n",
       "      <td>0</td>\n",
       "      <td>0</td>\n",
       "      <td>0</td>\n",
       "      <td>0</td>\n",
       "      <td>0</td>\n",
       "    </tr>\n",
       "    <tr>\n",
       "      <th>4</th>\n",
       "      <td>284</td>\n",
       "      <td>/bigdata/andrei_thesis/NIH_data/images/images/...</td>\n",
       "      <td>F</td>\n",
       "      <td>80+</td>\n",
       "      <td>0</td>\n",
       "      <td>0</td>\n",
       "      <td>1</td>\n",
       "      <td>0</td>\n",
       "      <td>0</td>\n",
       "      <td>0</td>\n",
       "      <td>0</td>\n",
       "      <td>0</td>\n",
       "    </tr>\n",
       "    <tr>\n",
       "      <th>5</th>\n",
       "      <td>284</td>\n",
       "      <td>/bigdata/andrei_thesis/NIH_data/images/images/...</td>\n",
       "      <td>F</td>\n",
       "      <td>80+</td>\n",
       "      <td>0</td>\n",
       "      <td>0</td>\n",
       "      <td>1</td>\n",
       "      <td>1</td>\n",
       "      <td>0</td>\n",
       "      <td>0</td>\n",
       "      <td>0</td>\n",
       "      <td>0</td>\n",
       "    </tr>\n",
       "    <tr>\n",
       "      <th>6</th>\n",
       "      <td>284</td>\n",
       "      <td>/bigdata/andrei_thesis/NIH_data/images/images/...</td>\n",
       "      <td>F</td>\n",
       "      <td>80+</td>\n",
       "      <td>0</td>\n",
       "      <td>0</td>\n",
       "      <td>0</td>\n",
       "      <td>0</td>\n",
       "      <td>0</td>\n",
       "      <td>0</td>\n",
       "      <td>0</td>\n",
       "      <td>0</td>\n",
       "    </tr>\n",
       "    <tr>\n",
       "      <th>7</th>\n",
       "      <td>324</td>\n",
       "      <td>/bigdata/andrei_thesis/NIH_data/images/images/...</td>\n",
       "      <td>M</td>\n",
       "      <td>20-40</td>\n",
       "      <td>0</td>\n",
       "      <td>0</td>\n",
       "      <td>0</td>\n",
       "      <td>0</td>\n",
       "      <td>0</td>\n",
       "      <td>0</td>\n",
       "      <td>0</td>\n",
       "      <td>0</td>\n",
       "    </tr>\n",
       "    <tr>\n",
       "      <th>8</th>\n",
       "      <td>324</td>\n",
       "      <td>/bigdata/andrei_thesis/NIH_data/images/images/...</td>\n",
       "      <td>M</td>\n",
       "      <td>20-40</td>\n",
       "      <td>0</td>\n",
       "      <td>0</td>\n",
       "      <td>0</td>\n",
       "      <td>0</td>\n",
       "      <td>0</td>\n",
       "      <td>0</td>\n",
       "      <td>0</td>\n",
       "      <td>0</td>\n",
       "    </tr>\n",
       "    <tr>\n",
       "      <th>9</th>\n",
       "      <td>324</td>\n",
       "      <td>/bigdata/andrei_thesis/NIH_data/images/images/...</td>\n",
       "      <td>M</td>\n",
       "      <td>20-40</td>\n",
       "      <td>1</td>\n",
       "      <td>0</td>\n",
       "      <td>0</td>\n",
       "      <td>0</td>\n",
       "      <td>0</td>\n",
       "      <td>0</td>\n",
       "      <td>0</td>\n",
       "      <td>0</td>\n",
       "    </tr>\n",
       "  </tbody>\n",
       "</table>\n",
       "</div>"
      ],
      "text/plain": [
       "   subject_id                                          Jointpath Sex    Age  \\\n",
       "0          72  /bigdata/andrei_thesis/NIH_data/images/images/...   F  60-80   \n",
       "1         284  /bigdata/andrei_thesis/NIH_data/images/images/...   F    80+   \n",
       "2         284  /bigdata/andrei_thesis/NIH_data/images/images/...   F    80+   \n",
       "3         284  /bigdata/andrei_thesis/NIH_data/images/images/...   F    80+   \n",
       "4         284  /bigdata/andrei_thesis/NIH_data/images/images/...   F    80+   \n",
       "5         284  /bigdata/andrei_thesis/NIH_data/images/images/...   F    80+   \n",
       "6         284  /bigdata/andrei_thesis/NIH_data/images/images/...   F    80+   \n",
       "7         324  /bigdata/andrei_thesis/NIH_data/images/images/...   M  20-40   \n",
       "8         324  /bigdata/andrei_thesis/NIH_data/images/images/...   M  20-40   \n",
       "9         324  /bigdata/andrei_thesis/NIH_data/images/images/...   M  20-40   \n",
       "\n",
       "   No Finding  Atelectasis  Cardiomegaly  Effusion  Pneumonia  Pneumothorax  \\\n",
       "0           0            1             0         0          0             0   \n",
       "1           0            0             0         0          0             0   \n",
       "2           0            0             0         0          0             0   \n",
       "3           0            0             0         0          0             0   \n",
       "4           0            0             1         0          0             0   \n",
       "5           0            0             1         1          0             0   \n",
       "6           0            0             0         0          0             0   \n",
       "7           0            0             0         0          0             0   \n",
       "8           0            0             0         0          0             0   \n",
       "9           1            0             0         0          0             0   \n",
       "\n",
       "   Consolidation  Edema  \n",
       "0              0      0  \n",
       "1              0      0  \n",
       "2              0      0  \n",
       "3              0      0  \n",
       "4              0      0  \n",
       "5              0      0  \n",
       "6              0      0  \n",
       "7              0      0  \n",
       "8              0      0  \n",
       "9              0      0  "
      ]
     },
     "execution_count": 6,
     "metadata": {},
     "output_type": "execute_result"
    }
   ],
   "source": [
    "test_df_NIH.head(10)"
   ]
  },
  {
   "cell_type": "code",
   "execution_count": 7,
   "id": "d029c454c5a8366f",
   "metadata": {
    "ExecuteTime": {
     "end_time": "2024-11-08T10:03:15.133174Z",
     "start_time": "2024-11-08T10:03:15.074254Z"
    }
   },
   "outputs": [],
   "source": [
    "test_df = pd.concat([test_df_CXP, test_df_NIH, test_df_MIMIC], ignore_index=True)\n",
    "train_df = pd.concat([train_df_CXP, train_df_NIH, train_df_MIMIC], ignore_index=True)\n",
    "val_df = pd.concat([val_df_CXP, val_df_NIH, val_df_MIMIC], ignore_index=True)"
   ]
  },
  {
   "cell_type": "code",
   "execution_count": 8,
   "id": "f5d66eec9e27b0d3",
   "metadata": {
    "ExecuteTime": {
     "end_time": "2024-11-08T10:06:21.428118Z",
     "start_time": "2024-11-08T10:06:17.125996Z"
    }
   },
   "outputs": [],
   "source": [
    "test_df.to_csv('./data_mevis/ALLData/preprocessed_test_df.csv', index=False)\n",
    "train_df.to_csv('./data_mevis/ALLData/preprocessed_train_df.csv', index=False)\n",
    "val_df.to_csv('./data_mevis/ALLData/preprocessed_val_df.csv', index=False)"
   ]
  },
  {
   "cell_type": "code",
   "execution_count": 9,
   "id": "19db30f66a6074ed",
   "metadata": {
    "ExecuteTime": {
     "end_time": "2024-11-08T10:05:55.089459Z",
     "start_time": "2024-11-08T10:05:50.664348Z"
    }
   },
   "outputs": [],
   "source": [
    "WholeData = pd.concat([train_df, test_df, val_df], ignore_index=True)\n",
    "WholeData.to_csv('./data_mevis/ALLData/preprocessed_full_data.csv', index=False)"
   ]
  },
  {
   "cell_type": "code",
   "execution_count": 10,
   "id": "f93b685236721354",
   "metadata": {
    "ExecuteTime": {
     "end_time": "2024-11-12T16:21:47.120797Z",
     "start_time": "2024-11-12T16:21:45.392119Z"
    }
   },
   "outputs": [
    {
     "data": {
      "text/plain": [
       "665580"
      ]
     },
     "execution_count": 10,
     "metadata": {},
     "output_type": "execute_result"
    }
   ],
   "source": [
    "WholeData = pd.read_csv('./data/preprocessed_full_data.csv')\n",
    "len(WholeData)"
   ]
  }
 ],
 "metadata": {
  "kernelspec": {
   "display_name": "cxr_underdiag",
   "language": "python",
   "name": "python3"
  },
  "language_info": {
   "codemirror_mode": {
    "name": "ipython",
    "version": 3
   },
   "file_extension": ".py",
   "mimetype": "text/x-python",
   "name": "python",
   "nbconvert_exporter": "python",
   "pygments_lexer": "ipython3",
   "version": "3.12.2"
  }
 },
 "nbformat": 4,
 "nbformat_minor": 5
}
