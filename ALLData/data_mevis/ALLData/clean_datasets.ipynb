{
 "cells": [
  {
   "cell_type": "code",
   "execution_count": 1,
   "metadata": {},
   "outputs": [],
   "source": [
    "import pandas as pd"
   ]
  },
  {
   "cell_type": "code",
   "execution_count": 10,
   "metadata": {},
   "outputs": [
    {
     "data": {
      "text/html": [
       "<div>\n",
       "<style scoped>\n",
       "    .dataframe tbody tr th:only-of-type {\n",
       "        vertical-align: middle;\n",
       "    }\n",
       "\n",
       "    .dataframe tbody tr th {\n",
       "        vertical-align: top;\n",
       "    }\n",
       "\n",
       "    .dataframe thead th {\n",
       "        text-align: right;\n",
       "    }\n",
       "</style>\n",
       "<table border=\"1\" class=\"dataframe\">\n",
       "  <thead>\n",
       "    <tr style=\"text-align: right;\">\n",
       "      <th></th>\n",
       "      <th>subject_id</th>\n",
       "      <th>Jointpath</th>\n",
       "      <th>Sex</th>\n",
       "      <th>Age</th>\n",
       "      <th>No Finding</th>\n",
       "      <th>Atelectasis</th>\n",
       "      <th>Cardiomegaly</th>\n",
       "      <th>Effusion</th>\n",
       "      <th>Pneumonia</th>\n",
       "      <th>Pneumothorax</th>\n",
       "      <th>Consolidation</th>\n",
       "      <th>Edema</th>\n",
       "    </tr>\n",
       "  </thead>\n",
       "  <tbody>\n",
       "    <tr>\n",
       "      <th>0</th>\n",
       "      <td>3</td>\n",
       "      <td>/bigdata/andrei_thesis/CXP_data/images/patient...</td>\n",
       "      <td>M</td>\n",
       "      <td>40-60</td>\n",
       "      <td>0.0</td>\n",
       "      <td>0.0</td>\n",
       "      <td>1.0</td>\n",
       "      <td>0.0</td>\n",
       "      <td>0.0</td>\n",
       "      <td>0.0</td>\n",
       "      <td>0.0</td>\n",
       "      <td>1.0</td>\n",
       "    </tr>\n",
       "    <tr>\n",
       "      <th>1</th>\n",
       "      <td>7</td>\n",
       "      <td>/bigdata/andrei_thesis/CXP_data/images/patient...</td>\n",
       "      <td>M</td>\n",
       "      <td>60-80</td>\n",
       "      <td>0.0</td>\n",
       "      <td>1.0</td>\n",
       "      <td>1.0</td>\n",
       "      <td>0.0</td>\n",
       "      <td>0.0</td>\n",
       "      <td>0.0</td>\n",
       "      <td>0.0</td>\n",
       "      <td>1.0</td>\n",
       "    </tr>\n",
       "    <tr>\n",
       "      <th>2</th>\n",
       "      <td>7</td>\n",
       "      <td>/bigdata/andrei_thesis/CXP_data/images/patient...</td>\n",
       "      <td>M</td>\n",
       "      <td>60-80</td>\n",
       "      <td>0.0</td>\n",
       "      <td>0.0</td>\n",
       "      <td>1.0</td>\n",
       "      <td>0.0</td>\n",
       "      <td>0.0</td>\n",
       "      <td>0.0</td>\n",
       "      <td>0.0</td>\n",
       "      <td>0.0</td>\n",
       "    </tr>\n",
       "    <tr>\n",
       "      <th>3</th>\n",
       "      <td>13</td>\n",
       "      <td>/bigdata/andrei_thesis/CXP_data/images/patient...</td>\n",
       "      <td>M</td>\n",
       "      <td>20-40</td>\n",
       "      <td>1.0</td>\n",
       "      <td>0.0</td>\n",
       "      <td>0.0</td>\n",
       "      <td>0.0</td>\n",
       "      <td>0.0</td>\n",
       "      <td>0.0</td>\n",
       "      <td>0.0</td>\n",
       "      <td>0.0</td>\n",
       "    </tr>\n",
       "    <tr>\n",
       "      <th>4</th>\n",
       "      <td>13</td>\n",
       "      <td>/bigdata/andrei_thesis/CXP_data/images/patient...</td>\n",
       "      <td>M</td>\n",
       "      <td>20-40</td>\n",
       "      <td>1.0</td>\n",
       "      <td>0.0</td>\n",
       "      <td>0.0</td>\n",
       "      <td>0.0</td>\n",
       "      <td>0.0</td>\n",
       "      <td>0.0</td>\n",
       "      <td>0.0</td>\n",
       "      <td>0.0</td>\n",
       "    </tr>\n",
       "  </tbody>\n",
       "</table>\n",
       "</div>"
      ],
      "text/plain": [
       "   subject_id                                          Jointpath Sex    Age  \\\n",
       "0           3  /bigdata/andrei_thesis/CXP_data/images/patient...   M  40-60   \n",
       "1           7  /bigdata/andrei_thesis/CXP_data/images/patient...   M  60-80   \n",
       "2           7  /bigdata/andrei_thesis/CXP_data/images/patient...   M  60-80   \n",
       "3          13  /bigdata/andrei_thesis/CXP_data/images/patient...   M  20-40   \n",
       "4          13  /bigdata/andrei_thesis/CXP_data/images/patient...   M  20-40   \n",
       "\n",
       "   No Finding  Atelectasis  Cardiomegaly  Effusion  Pneumonia  Pneumothorax  \\\n",
       "0         0.0          0.0           1.0       0.0        0.0           0.0   \n",
       "1         0.0          1.0           1.0       0.0        0.0           0.0   \n",
       "2         0.0          0.0           1.0       0.0        0.0           0.0   \n",
       "3         1.0          0.0           0.0       0.0        0.0           0.0   \n",
       "4         1.0          0.0           0.0       0.0        0.0           0.0   \n",
       "\n",
       "   Consolidation  Edema  \n",
       "0            0.0    1.0  \n",
       "1            0.0    1.0  \n",
       "2            0.0    0.0  \n",
       "3            0.0    0.0  \n",
       "4            0.0    0.0  "
      ]
     },
     "execution_count": 10,
     "metadata": {},
     "output_type": "execute_result"
    }
   ],
   "source": [
    "test_df = pd.read_csv(\"./preprocessed_test_df.csv\")\n",
    "test_df.head()"
   ]
  },
  {
   "cell_type": "code",
   "execution_count": 13,
   "metadata": {},
   "outputs": [
    {
     "name": "stdout",
     "output_type": "stream",
     "text": [
      "Number of missing paths in Jointpath: 0\n"
     ]
    }
   ],
   "source": [
    "missing_paths = test_df[\"Jointpath\"].isna().sum()\n",
    "print(f\"Number of missing paths in Jointpath: {missing_paths}\")"
   ]
  },
  {
   "cell_type": "code",
   "execution_count": null,
   "metadata": {},
   "outputs": [],
   "source": [
    "#test_df = test_df.dropna(subset=[\"Jointpath\"]).reset_index(drop=True)\n",
    "#train_df = train_df.dropna(subset=[\"Jointpath\"]).reset_index(drop=True)\n",
    "val_df = val_df.dropna(subset=[\"Jointpath\"]).reset_index(drop=True)"
   ]
  },
  {
   "cell_type": "code",
   "execution_count": 18,
   "metadata": {},
   "outputs": [
    {
     "name": "stdout",
     "output_type": "stream",
     "text": [
      "Number of missing paths in Jointpath: 3019\n"
     ]
    }
   ],
   "source": [
    "#train_df = pd.read_csv(\"preprocessed_train_df.csv\")\n",
    "missing_paths = val_df[\"Jointpath\"].isna().sum()\n",
    "print(f\"Number of missing paths in Jointpath: {missing_paths}\")"
   ]
  },
  {
   "cell_type": "code",
   "execution_count": 17,
   "metadata": {},
   "outputs": [
    {
     "name": "stdout",
     "output_type": "stream",
     "text": [
      "Number of missing paths in Jointpath: 3019\n"
     ]
    }
   ],
   "source": [
    "val_df = pd.read_csv(\"preprocessed_val_df.csv\")\n",
    "missing_paths = val_df[\"Jointpath\"].isna().sum()\n",
    "print(f\"Number of missing paths in Jointpath: {missing_paths}\")"
   ]
  }
 ],
 "metadata": {
  "kernelspec": {
   "display_name": "cxr_underdiag",
   "language": "python",
   "name": "python3"
  },
  "language_info": {
   "codemirror_mode": {
    "name": "ipython",
    "version": 3
   },
   "file_extension": ".py",
   "mimetype": "text/x-python",
   "name": "python",
   "nbconvert_exporter": "python",
   "pygments_lexer": "ipython3",
   "version": "3.12.2"
  }
 },
 "nbformat": 4,
 "nbformat_minor": 2
}
