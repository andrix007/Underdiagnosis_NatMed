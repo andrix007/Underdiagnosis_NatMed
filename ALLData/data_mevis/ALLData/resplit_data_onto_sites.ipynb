{
 "cells": [
  {
   "cell_type": "code",
   "execution_count": 1,
   "metadata": {},
   "outputs": [],
   "source": [
    "import pandas as pd"
   ]
  },
  {
   "cell_type": "code",
   "execution_count": 11,
   "metadata": {},
   "outputs": [
    {
     "data": {
      "text/html": [
       "<div>\n",
       "<style scoped>\n",
       "    .dataframe tbody tr th:only-of-type {\n",
       "        vertical-align: middle;\n",
       "    }\n",
       "\n",
       "    .dataframe tbody tr th {\n",
       "        vertical-align: top;\n",
       "    }\n",
       "\n",
       "    .dataframe thead th {\n",
       "        text-align: right;\n",
       "    }\n",
       "</style>\n",
       "<table border=\"1\" class=\"dataframe\">\n",
       "  <thead>\n",
       "    <tr style=\"text-align: right;\">\n",
       "      <th></th>\n",
       "      <th>subject_id</th>\n",
       "      <th>Jointpath</th>\n",
       "      <th>Sex</th>\n",
       "      <th>Age</th>\n",
       "      <th>No Finding</th>\n",
       "      <th>Atelectasis</th>\n",
       "      <th>Cardiomegaly</th>\n",
       "      <th>Effusion</th>\n",
       "      <th>Pneumonia</th>\n",
       "      <th>Pneumothorax</th>\n",
       "      <th>Consolidation</th>\n",
       "      <th>Edema</th>\n",
       "    </tr>\n",
       "  </thead>\n",
       "  <tbody>\n",
       "    <tr>\n",
       "      <th>0</th>\n",
       "      <td>5</td>\n",
       "      <td>/bigdata/andrei_thesis/CXP_data/images/patient...</td>\n",
       "      <td>M</td>\n",
       "      <td>20-40</td>\n",
       "      <td>0.0</td>\n",
       "      <td>0.0</td>\n",
       "      <td>0.0</td>\n",
       "      <td>0.0</td>\n",
       "      <td>0.0</td>\n",
       "      <td>0.0</td>\n",
       "      <td>0.0</td>\n",
       "      <td>0.0</td>\n",
       "    </tr>\n",
       "    <tr>\n",
       "      <th>1</th>\n",
       "      <td>5</td>\n",
       "      <td>/bigdata/andrei_thesis/CXP_data/images/patient...</td>\n",
       "      <td>M</td>\n",
       "      <td>20-40</td>\n",
       "      <td>0.0</td>\n",
       "      <td>0.0</td>\n",
       "      <td>0.0</td>\n",
       "      <td>0.0</td>\n",
       "      <td>0.0</td>\n",
       "      <td>0.0</td>\n",
       "      <td>0.0</td>\n",
       "      <td>0.0</td>\n",
       "    </tr>\n",
       "    <tr>\n",
       "      <th>2</th>\n",
       "      <td>5</td>\n",
       "      <td>/bigdata/andrei_thesis/CXP_data/images/patient...</td>\n",
       "      <td>M</td>\n",
       "      <td>20-40</td>\n",
       "      <td>0.0</td>\n",
       "      <td>1.0</td>\n",
       "      <td>0.0</td>\n",
       "      <td>0.0</td>\n",
       "      <td>0.0</td>\n",
       "      <td>1.0</td>\n",
       "      <td>0.0</td>\n",
       "      <td>0.0</td>\n",
       "    </tr>\n",
       "    <tr>\n",
       "      <th>3</th>\n",
       "      <td>5</td>\n",
       "      <td>/bigdata/andrei_thesis/CXP_data/images/patient...</td>\n",
       "      <td>M</td>\n",
       "      <td>20-40</td>\n",
       "      <td>0.0</td>\n",
       "      <td>1.0</td>\n",
       "      <td>0.0</td>\n",
       "      <td>0.0</td>\n",
       "      <td>0.0</td>\n",
       "      <td>1.0</td>\n",
       "      <td>0.0</td>\n",
       "      <td>0.0</td>\n",
       "    </tr>\n",
       "    <tr>\n",
       "      <th>4</th>\n",
       "      <td>6</td>\n",
       "      <td>/bigdata/andrei_thesis/CXP_data/images/patient...</td>\n",
       "      <td>F</td>\n",
       "      <td>40-60</td>\n",
       "      <td>1.0</td>\n",
       "      <td>0.0</td>\n",
       "      <td>0.0</td>\n",
       "      <td>0.0</td>\n",
       "      <td>0.0</td>\n",
       "      <td>0.0</td>\n",
       "      <td>0.0</td>\n",
       "      <td>0.0</td>\n",
       "    </tr>\n",
       "  </tbody>\n",
       "</table>\n",
       "</div>"
      ],
      "text/plain": [
       "   subject_id                                          Jointpath Sex    Age  \\\n",
       "0           5  /bigdata/andrei_thesis/CXP_data/images/patient...   M  20-40   \n",
       "1           5  /bigdata/andrei_thesis/CXP_data/images/patient...   M  20-40   \n",
       "2           5  /bigdata/andrei_thesis/CXP_data/images/patient...   M  20-40   \n",
       "3           5  /bigdata/andrei_thesis/CXP_data/images/patient...   M  20-40   \n",
       "4           6  /bigdata/andrei_thesis/CXP_data/images/patient...   F  40-60   \n",
       "\n",
       "   No Finding  Atelectasis  Cardiomegaly  Effusion  Pneumonia  Pneumothorax  \\\n",
       "0         0.0          0.0           0.0       0.0        0.0           0.0   \n",
       "1         0.0          0.0           0.0       0.0        0.0           0.0   \n",
       "2         0.0          1.0           0.0       0.0        0.0           1.0   \n",
       "3         0.0          1.0           0.0       0.0        0.0           1.0   \n",
       "4         1.0          0.0           0.0       0.0        0.0           0.0   \n",
       "\n",
       "   Consolidation  Edema  \n",
       "0            0.0    0.0  \n",
       "1            0.0    0.0  \n",
       "2            0.0    0.0  \n",
       "3            0.0    0.0  \n",
       "4            0.0    0.0  "
      ]
     },
     "metadata": {},
     "output_type": "display_data"
    }
   ],
   "source": [
    "df = pd.read_csv('preprocessed_val_df_1.csv')\n",
    "display(df.head())"
   ]
  },
  {
   "cell_type": "code",
   "execution_count": 6,
   "metadata": {},
   "outputs": [],
   "source": [
    "# Create separate datasets based on the keyword in the `Jointpath` column\n",
    "NIH_training_data = df[df['Jointpath'].str.contains('NIH', case=False, na=False)]\n",
    "CXP_training_data = df[df['Jointpath'].str.contains('CXP', case=False, na=False)]\n",
    "MIMIC_training_data = df[df['Jointpath'].str.contains('MIMIC', case=False, na=False)]"
   ]
  },
  {
   "cell_type": "code",
   "execution_count": 7,
   "metadata": {},
   "outputs": [
    {
     "name": "stdout",
     "output_type": "stream",
     "text": [
      "Datasets have been successfully split and saved!\n"
     ]
    }
   ],
   "source": [
    "# Save the datasets if needed\n",
    "NIH_training_data.to_csv(\"NIH_training_data.csv\", index=False)\n",
    "CXP_training_data.to_csv(\"CXP_training_data.csv\", index=False)\n",
    "MIMIC_training_data.to_csv(\"MIMIC_training_data.csv\", index=False)\n",
    "\n",
    "print(\"Datasets have been successfully split and saved!\")"
   ]
  },
  {
   "cell_type": "code",
   "execution_count": 9,
   "metadata": {},
   "outputs": [],
   "source": [
    "# Create separate datasets based on the keyword in the `Jointpath` column\n",
    "NIH_test_data = df[df['Jointpath'].str.contains('NIH', case=False, na=False)]\n",
    "CXP_test_data = df[df['Jointpath'].str.contains('CXP', case=False, na=False)]\n",
    "MIMIC_test_data = df[df['Jointpath'].str.contains('MIMIC', case=False, na=False)]"
   ]
  },
  {
   "cell_type": "code",
   "execution_count": 10,
   "metadata": {},
   "outputs": [
    {
     "name": "stdout",
     "output_type": "stream",
     "text": [
      "Datasets have been successfully split and saved!\n"
     ]
    }
   ],
   "source": [
    "# Save the datasets if needed\n",
    "NIH_test_data.to_csv(\"NIH_test_data.csv\", index=False)\n",
    "CXP_test_data.to_csv(\"CXP_test_data.csv\", index=False)\n",
    "MIMIC_test_data.to_csv(\"MIMIC_test_data.csv\", index=False)\n",
    "\n",
    "print(\"Datasets have been successfully split and saved!\")"
   ]
  },
  {
   "cell_type": "code",
   "execution_count": 12,
   "metadata": {},
   "outputs": [],
   "source": [
    "# Create separate datasets based on the keyword in the `Jointpath` column\n",
    "NIH_val_data = df[df['Jointpath'].str.contains('NIH', case=False, na=False)]\n",
    "CXP_val_data = df[df['Jointpath'].str.contains('CXP', case=False, na=False)]\n",
    "MIMIC_val_data = df[df['Jointpath'].str.contains('MIMIC', case=False, na=False)]"
   ]
  },
  {
   "cell_type": "code",
   "execution_count": 13,
   "metadata": {},
   "outputs": [
    {
     "name": "stdout",
     "output_type": "stream",
     "text": [
      "Datasets have been successfully split and saved!\n"
     ]
    }
   ],
   "source": [
    "# Save the datasets if needed\n",
    "NIH_val_data.to_csv(\"NIH_val_data.csv\", index=False)\n",
    "CXP_val_data.to_csv(\"CXP_val_data.csv\", index=False)\n",
    "MIMIC_val_data.to_csv(\"MIMIC_val_data.csv\", index=False)\n",
    "\n",
    "print(\"Datasets have been successfully split and saved!\")"
   ]
  }
 ],
 "metadata": {
  "kernelspec": {
   "display_name": "cxr_underdiag",
   "language": "python",
   "name": "python3"
  },
  "language_info": {
   "codemirror_mode": {
    "name": "ipython",
    "version": 3
   },
   "file_extension": ".py",
   "mimetype": "text/x-python",
   "name": "python",
   "nbconvert_exporter": "python",
   "pygments_lexer": "ipython3",
   "version": "3.12.2"
  }
 },
 "nbformat": 4,
 "nbformat_minor": 2
}
